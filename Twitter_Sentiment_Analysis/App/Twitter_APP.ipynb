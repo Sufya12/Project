{
 "cells": [
  {
   "cell_type": "code",
   "execution_count": null,
   "id": "a8e5d1f6",
   "metadata": {},
   "outputs": [],
   "source": []
  },
  {
   "cell_type": "code",
   "execution_count": null,
   "id": "92fa2a2f",
   "metadata": {},
   "outputs": [],
   "source": []
  },
  {
   "cell_type": "code",
   "execution_count": null,
   "id": "d6ae494c",
   "metadata": {},
   "outputs": [],
   "source": []
  },
  {
   "cell_type": "code",
   "execution_count": 6,
   "id": "a9c8071d",
   "metadata": {},
   "outputs": [],
   "source": [
    "#Importing Necessary Libraires\n",
    "import streamlit as st\n",
    "import pandas as pd\n",
    "import numpy as np\n",
    "import joblib\n",
    "import re\n",
    "import nltk\n",
    "from nltk.corpus import stopwords\n",
    "from nltk.stem import PorterStemmer\n",
    "\n",
    "# Load pre-trained model\n",
    "model = joblib.load('model.joblib')\n",
    "\n",
    "vectorizer = joblib.load('vectorizer.joblib')"
   ]
  },
  {
   "cell_type": "code",
   "execution_count": 2,
   "id": "ddb114cc",
   "metadata": {},
   "outputs": [],
   "source": [
    "#Define a function to clean the tweet\n",
    "def clean_tweet(tweet):\n",
    "    # Remove URLs, mentions, and hashtags\n",
    "    tweet = re.sub(r\"http\\S+\", \"\", tweet)\n",
    "    tweet = re.sub(r\"@[^\\s]+[\\s]?\", \"\", tweet)\n",
    "    tweet = re.sub(r\"#([^\\s]+[\\s]?)+\", \"\", tweet)\n",
    "\n",
    "    # Remove stopwords and stem the remaining words\n",
    "    stemmer = PorterStemmer()\n",
    "    stopwords_english = stopwords.words('english')\n",
    "    words = nltk.word_tokenize(tweet)\n",
    "    words = [stemmer.stem(word) for word in words if word not in stopwords_english]\n",
    "\n",
    "    return \" \".join(words)"
   ]
  },
  {
   "cell_type": "code",
   "execution_count": 4,
   "id": "f3cb7244",
   "metadata": {},
   "outputs": [],
   "source": [
    "#Define streamlit app\n",
    "\n",
    "def app():\n",
    "    # Set the title and page icon\n",
    "    st.set_page_config(page_title='Sentiment Analysis', page_icon=':smiley:')\n",
    "\n",
    "    # Add a title and subtitle\n",
    "    st.title('Sentiment Analysis')\n",
    "    st.write('Enter a tweet below to predict the sentiment.')\n",
    "    \n",
    "\n",
    "    # Add a text input for user input\n",
    "    tweet_input = st.text_input('Enter a tweet:')\n",
    "    analyze_button = st.button('Analyze')\n",
    "    \n",
    "    # Check if the user has entered anything\n",
    "    if tweet_input:\n",
    "        # Clean the tweet\n",
    "        cleaned_tweet = clean_tweet(tweet_input)\n",
    "\n",
    "        # Vectorize the cleaned tweet using your pre-trained vectorizer\n",
    "        # This step depends on how you vectorized your data during training, so modify it accordingly\n",
    "        tweet_vectorized = vectorizer.transform([cleaned_tweet])\n",
    "\n",
    "        # Predict the sentiment of the tweet using your pre-trained model\n",
    "        sentiment = model.predict(tweet_vectorized)[0]\n",
    "\n",
    "        # Display the predicted sentiment\n",
    "        if sentiment == 'positive':\n",
    "            st.write('The sentiment is positive :smile:')\n",
    "        elif sentiment == 'negative':\n",
    "            st.write('The sentiment is negative :disappointed:')\n",
    "        else:\n",
    "            st.write('The sentiment is neutral :neutral_face:')\n"
   ]
  },
  {
   "cell_type": "code",
   "execution_count": 5,
   "id": "080dd422",
   "metadata": {},
   "outputs": [
    {
     "name": "stderr",
     "output_type": "stream",
     "text": [
      "2023-04-04 09:40:47.951 \n",
      "  \u001b[33m\u001b[1mWarning:\u001b[0m to view this Streamlit app on a browser, run it with the following\n",
      "  command:\n",
      "\n",
      "    streamlit run C:\\Users\\user\\anaconda3\\lib\\site-packages\\ipykernel_launcher.py [ARGUMENTS]\n"
     ]
    }
   ],
   "source": [
    "if __name__ == '__main__':\n",
    "    app()"
   ]
  },
  {
   "cell_type": "code",
   "execution_count": null,
   "id": "6cb51c2f",
   "metadata": {},
   "outputs": [],
   "source": []
  },
  {
   "cell_type": "code",
   "execution_count": null,
   "id": "b58d7bce",
   "metadata": {},
   "outputs": [],
   "source": []
  }
 ],
 "metadata": {
  "kernelspec": {
   "display_name": "Python 3 (ipykernel)",
   "language": "python",
   "name": "python3"
  },
  "language_info": {
   "codemirror_mode": {
    "name": "ipython",
    "version": 3
   },
   "file_extension": ".py",
   "mimetype": "text/x-python",
   "name": "python",
   "nbconvert_exporter": "python",
   "pygments_lexer": "ipython3",
   "version": "3.10.9"
  }
 },
 "nbformat": 4,
 "nbformat_minor": 5
}
