{
 "cells": [
  {
   "cell_type": "code",
   "execution_count": 2,
   "id": "b9a20bc4",
   "metadata": {},
   "outputs": [],
   "source": [
    "import numpy as np\n",
    "import cv2"
   ]
  },
  {
   "cell_type": "code",
   "execution_count": 3,
   "id": "e21064bf",
   "metadata": {},
   "outputs": [],
   "source": [
    "# Function to apply the Box Filter\n",
    "def box_filter(image, kernel_size):\n",
    "    kernel = np.ones((kernel_size, kernel_size), dtype=np.float32) / (kernel_size * kernel_size)\n",
    "    return cv2.filter2D(image, -1, kernel)"
   ]
  },
  {
   "cell_type": "code",
   "execution_count": 4,
   "id": "de6da2f6",
   "metadata": {},
   "outputs": [],
   "source": [
    "# Function to apply the Gaussian Filter\n",
    "def gaussian_filter(image, kernel_size, sigma):\n",
    "    kernel = cv2.getGaussianKernel(kernel_size, sigma)\n",
    "    return cv2.filter2D(image, -1, kernel)"
   ]
  },
  {
   "cell_type": "code",
   "execution_count": 5,
   "id": "843e5334",
   "metadata": {},
   "outputs": [],
   "source": [
    "# Function to apply the Sobel Filter\n",
    "def sobel_filter(image):\n",
    "    sobelx = cv2.Sobel(image, cv2.CV_64F, 1, 0, ksize=3)\n",
    "    sobely = cv2.Sobel(image, cv2.CV_64F, 0, 1, ksize=3)\n",
    "    sobel = np.sqrt(sobelx**2 + sobely**2)\n",
    "    return sobel"
   ]
  },
  {
   "cell_type": "code",
   "execution_count": 6,
   "id": "6d0e71e8",
   "metadata": {},
   "outputs": [],
   "source": [
    "# Function to apply the Median Filter\n",
    "def median_filter(image, kernel_size):\n",
    "    filtered_image = np.zeros_like(image)\n",
    "    padded_image = np.pad(image, ((kernel_size//2, kernel_size//2), (kernel_size//2, kernel_size//2)), mode='constant')\n",
    "    for i in range(image.shape[0]):\n",
    "        for j in range(image.shape[1]):\n",
    "            neighborhood = padded_image[i:i+kernel_size, j:j+kernel_size]\n",
    "            filtered_image[i, j] = np.median(neighborhood)\n",
    "    return filtered_image"
   ]
  },
  {
   "cell_type": "code",
   "execution_count": 12,
   "id": "91fc97b8",
   "metadata": {},
   "outputs": [],
   "source": [
    "# Load an example image\n",
    "image = cv2.imread('vehicles.jpeg', cv2.IMREAD_GRAYSCALE)\n",
    "\n",
    "# Apply the Box Filter with kernel size 3\n",
    "box_filtered = box_filter(image, kernel_size=3)\n",
    "\n",
    "# Apply the Gaussian Filter with kernel size 5 and sigma 1.5\n",
    "gaussian_filtered = gaussian_filter(image, kernel_size=5, sigma=1.5)\n",
    "\n",
    "# Apply the Sobel Filter\n",
    "sobel_filtered = sobel_filter(image)\n",
    "\n",
    "# Apply the Median Filter with kernel size 3\n",
    "median_filtered = median_filter(image, kernel_size=3)\n",
    "\n",
    "# Display the original and filtered images\n",
    "cv2.imshow(\"Original\", image)\n",
    "cv2.imshow(\"Box Filtered\", box_filtered)\n",
    "cv2.imshow(\"Gaussian Filtered\", gaussian_filtered)\n",
    "cv2.imshow(\"Sobel Filtered\", sobel_filtered)\n",
    "cv2.imshow(\"Median Filtered\", median_filtered)\n",
    "\n",
    "# Wait for key press\n",
    "cv2.waitKey(0)\n",
    "\n",
    "# Close the windows\n",
    "cv2.destroyAllWindows()"
   ]
  }
 ],
 "metadata": {
  "kernelspec": {
   "display_name": "Python 3 (ipykernel)",
   "language": "python",
   "name": "python3"
  },
  "language_info": {
   "codemirror_mode": {
    "name": "ipython",
    "version": 3
   },
   "file_extension": ".py",
   "mimetype": "text/x-python",
   "name": "python",
   "nbconvert_exporter": "python",
   "pygments_lexer": "ipython3",
   "version": "3.10.4"
  }
 },
 "nbformat": 4,
 "nbformat_minor": 5
}
